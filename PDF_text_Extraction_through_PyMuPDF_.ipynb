{
  "nbformat": 4,
  "nbformat_minor": 0,
  "metadata": {
    "colab": {
      "provenance": []
    },
    "kernelspec": {
      "name": "python3",
      "display_name": "Python 3"
    },
    "language_info": {
      "name": "python"
    }
  },
  "cells": [
    {
      "cell_type": "code",
      "execution_count": 1,
      "metadata": {
        "colab": {
          "base_uri": "https://localhost:8080/"
        },
        "id": "0SR-08L-3ccS",
        "outputId": "d98033ae-20db-47e1-bb1d-b25c4881e8e1"
      },
      "outputs": [
        {
          "output_type": "stream",
          "name": "stdout",
          "text": [
            "Collecting pypdf\n",
            "  Downloading pypdf-5.4.0-py3-none-any.whl.metadata (7.3 kB)\n",
            "Downloading pypdf-5.4.0-py3-none-any.whl (302 kB)\n",
            "\u001b[?25l   \u001b[90m━━━━━━━━━━━━━━━━━━━━━━━━━━━━━━━━━━━━━━━━\u001b[0m \u001b[32m0.0/302.3 kB\u001b[0m \u001b[31m?\u001b[0m eta \u001b[36m-:--:--\u001b[0m\r\u001b[2K   \u001b[90m━━━━━━━━━━━━━━━━━━━━━━━━━━━━━━━━━━━━━━━━\u001b[0m \u001b[32m302.3/302.3 kB\u001b[0m \u001b[31m9.0 MB/s\u001b[0m eta \u001b[36m0:00:00\u001b[0m\n",
            "\u001b[?25hInstalling collected packages: pypdf\n",
            "Successfully installed pypdf-5.4.0\n"
          ]
        }
      ],
      "source": [
        "!pip install pypdf\n",
        "from pypdf import PdfReader"
      ]
    },
    {
      "cell_type": "code",
      "source": [
        "from os import read\n",
        "reader=PdfReader('/content/pdf.pdf')\n",
        "print(len(reader.pages))\n",
        "#page=reader.pages[0]\n",
        "#print(page.extract_text())\n",
        "\n",
        "for i in range(len(reader.pages)):\n",
        "  page=reader.pages[i]\n",
        "  print(page.extract_text())\n"
      ],
      "metadata": {
        "colab": {
          "base_uri": "https://localhost:8080/"
        },
        "id": "8GlScryR3kGp",
        "outputId": "3b88eb68-e9d3-45d2-8d12-e3325f99438c"
      },
      "execution_count": 6,
      "outputs": [
        {
          "output_type": "stream",
          "name": "stdout",
          "text": [
            "5\n",
            "Dr. APJ Abdul Kalam \n",
            "www.abdulkalam.com \n",
            "Page 1 of 5 \n",
            "Profile of Dr. APJ Abdul Kalam \n",
            " \n",
            " Born on 15th October 1931 at \n",
            "Rameswaram in Tamil Nadu, Dr. Avul \n",
            "Pakir Jainulabdeen Abdul Kalam, \n",
            "graduated in Science from St. \n",
            "Joseph’s College, Trichy in 1954 and \n",
            "specialized in Aeronautical \n",
            "Engineering from Madras Institu te of \n",
            "Technology (MIT) in 1957. Dr. Kalam \n",
            "is a pioneer in fibre glass technology and led a young team to \n",
            "initiate this effort in ISRO from design, development leading to \n",
            "production of composites rocket motor cases. Dr. Kalam made \n",
            "significant contribution a s Project Director to develop India’s \n",
            "first indigenous Satellite Launch Vehicle (SLV -3) which \n",
            "successfully injected the Rohini satellite in the near earth orbit \n",
            "in July 1980 and made India an exclusive member of Space \n",
            "Club. \n",
            "He was responsible for the evolu tion of ISRO's launch \n",
            "vehicle programme, particularly the PSLV configuration. After \n",
            "working for two decades in ISRO and mastering launch vehicle \n",
            "technologies, Dr. Kalam took up the responsibility of \n",
            "developing Indigenous Guided Missiles at Defence Research  \n",
            "and Development Organisation as the Chief Executive of \n",
            "Integrated Guided Missile Development Programme (IGMDP). \n",
            "He was responsible for the development and operationalisation \n",
            "\n",
            "Dr. APJ Abdul Kalam \n",
            "www.abdulkalam.com \n",
            "Page 2 of 5 \n",
            "of AGNI and PRITHVI Missiles and for building indigenous \n",
            "capability in critical t echnologies through networking of \n",
            "multiple institutions. One of his significant contribution was \n",
            "creating Research Centre Imarat for advanced technologies. He \n",
            "was the Scientific Adviser to Defence Minister and Secretary, \n",
            "Department of Defence Research & De velopment from July \n",
            "1992 to December 1999. During this period he led to the \n",
            "weaponisation of strategic missile systems and the Pokhran -II \n",
            "nuclear tests in collaboration with Department of Atomic \n",
            "Energy, which made India a nuclear weapon State. He also \n",
            "gave thrust to self -reliance in defence systems by progressing \n",
            "multiple development tasks and mission projects such as \n",
            "Light Combat Aircraft. \n",
            "As Chairman of Technology Information, Forecasting and \n",
            "Assessment Council (TIFAC) and as an eminent scientist, he \n",
            "led the country with the help of 500 experts to arrive at \n",
            "Technology Vision 2020 giving a road map for transforming \n",
            "India from the present developing status to a developed \n",
            "nation. Dr. Kalam has served as the Principal Scientific \n",
            "Advisor to the Government of In dia, in the rank of Cabinet \n",
            "Minister, from November 1999 to November 2001 and was \n",
            "responsible for evolving policies, strategies and missions for \n",
            "many development applications. Dr. Kalam was also the \n",
            "Chairman, Ex-officio, of the Scientific Advisory Committe e to \n",
            "the Cabinet (SAC -C) and piloted India Millennium Mission \n",
            "2020. \n",
            "Dr. APJ Abdul Kalam \n",
            "www.abdulkalam.com \n",
            "Page 3 of 5 \n",
            "In the bio -medical area, Dr. Kalam along with his team \n",
            "collaborated with medical specialists in the development of \n",
            "Kalam-Raju stent during 1994 - 1996. Kalam -Raju cardiac \n",
            "stent after quali fication trials has been fitted to many needy \n",
            "patients.  This development has further led to the creation of a \n",
            "production unit of state -of-the-art stents. Also, he had \n",
            "initiated the use of carbon -carbon and carbon -polymer \n",
            "materials for production of floor reaction orthosi s calipers \n",
            "which has reduced the weight of the caliper to 1/10 th of the \n",
            "original weight during 1995 – 1996. Over 50,000 children have \n",
            "been fitted with these calipers.  \n",
            "Dr. Kalam took up academic pursuit as Professor, \n",
            "Technology & Societal T ransformation at Anna University, \n",
            "Chennai from November 2001 and was involved in teaching \n",
            "and research tasks. Above all he took up a mission to ignite \n",
            "the young minds for national development by meeting school \n",
            "students across the country.  During the last d ecade, Dr. \n",
            "Kalam has addressed over five million youth below the age of \n",
            "17 and inspired them to become an active participant of India \n",
            "Vision 2020.  He has addressed several children science \n",
            "congresses across the country.  \n",
            "Dr. Kalam is passionate about brin ging rural prosperity \n",
            "through PURA (Providing Urban Amenities to Rural Areas), in \n",
            "which science and technology has to play a key role. Based on \n",
            "his diverse experience he has been propagating the concept of \n",
            "World Knowledge Platform through which the core \n",
            "Dr. APJ Abdul Kalam \n",
            "www.abdulkalam.com \n",
            "Page 4 of 5 \n",
            "competencies of organizations and nations can be synergized \n",
            "to innovate and create solutions and products for the \n",
            "challenges of 21st century.  \n",
            "In his literary pursuit Dr. Kalam authored a number of  \n",
            "books, such as  \"Wings of Fire\", \"India 2020 - A Vision for the \n",
            "New Millennium\", \"My journey\" and \"Ignited Minds - \n",
            "Unleashing the power within India\", “Indomitable Spirit ”, \n",
            "“Guiding Soul s”, “Envisioning an Empowered Nation ”, \n",
            "“Inspiring Thoughts”, “Children Ask Kalam”, “You are born to \n",
            "blossom”, “Family and the Nat ion”, “ Life Tree ” and “The \n",
            "Luminous Sparks” a collection of his poems .  Many of them  \n",
            "have become household names in India and among the Indian \n",
            "nationals abroad. These books have been translated into many \n",
            "Indian and foreign languages. \n",
            " \n",
            "Dr. Kalam is one of the most distinguished scientists of \n",
            "India with the unique honour of recei ving honorary doctorates \n",
            "from 48 Universities and institutions from India and abroad.  \n",
            "The Honorary Doctorates include, Nyenrode Business \n",
            "University, Netherlands; Nanyang Technologic al University, \n",
            "Singapore; Carnegie Mellon University, Pittsburg USA; \n",
            "University of Wolverhampton, UK; University of Kentucky, \n",
            "USA; Oakland University, Michigan USA;  University of \n",
            "Waterloo, Canada;  University Sans Malaysia, Malaysia \n",
            "University of Syd ney, Au stralia and the Simon Fraser \n",
            "University, Vancouver. \n",
            "Dr. APJ Abdul Kalam \n",
            "www.abdulkalam.com \n",
            "Page 5 of 5 \n",
            " \n",
            "He has been awarded with the coveted civilian awards - \n",
            "Padma Bhushan (1981) and Padma Vibhushan (1990) and the \n",
            "highest civilian award Bharat Ratna (1997). He is a recipient \n",
            "of several other awards and Fe llow of many professional \n",
            "institutions. \n",
            " \n",
            "International Recognitions \n",
            "The Royal Society, UK has awarded Dr Kalam with the \n",
            "“King Charles -II Medal ” for Science and Technology in \n",
            "October 2007 .  He received the Woodrow Wilson Award  in \n",
            "2008.  The Royal Academy of  Engineering, London conferred \n",
            "on him the International Medal 2008  in June 2009 at \n",
            "London. The Hoover Board of Awards presented him the \n",
            "Hoover Medal 2008  at New York in April 2009.   The \n",
            "Aerospace Historical Society  in Collaboration with the \n",
            "Graduate Aerospace Laboratories (GALCIT) at the California \n",
            "Institute of Technology awarded him the “2009 International \n",
            "Von Karman Wings Award” in September 2009.  \n",
            " \n",
            "Dr. Kalam became the 11th President of India on 25th \n",
            "July 2002. After five eventful years he demitted offi ce on 25th \n",
            "July 2007.  His focus is on transforming India into a developed \n",
            "nation by 2020. His accent is on constructive networking and \n",
            "excellent human resources for a n economically developed,  \n",
            "prosperous and peaceful society. \n"
          ]
        }
      ]
    },
    {
      "cell_type": "code",
      "source": [
        "for i in page.images:\n",
        "  with open(i.name, 'wb') as f:\n",
        "    f.write(i.data)"
      ],
      "metadata": {
        "id": "RMKyh_ZJ3xlM"
      },
      "execution_count": 7,
      "outputs": []
    },
    {
      "cell_type": "code",
      "source": [
        "pip install pymupdf openpyxl pandas\n"
      ],
      "metadata": {
        "colab": {
          "base_uri": "https://localhost:8080/"
        },
        "id": "MiSfS9CY7kTS",
        "outputId": "fa514da9-0d67-4092-8282-811291616932"
      },
      "execution_count": 8,
      "outputs": [
        {
          "output_type": "stream",
          "name": "stdout",
          "text": [
            "Collecting pymupdf\n",
            "  Downloading pymupdf-1.25.5-cp39-abi3-manylinux2014_x86_64.manylinux_2_17_x86_64.whl.metadata (3.4 kB)\n",
            "Requirement already satisfied: openpyxl in /usr/local/lib/python3.11/dist-packages (3.1.5)\n",
            "Requirement already satisfied: pandas in /usr/local/lib/python3.11/dist-packages (2.2.2)\n",
            "Requirement already satisfied: et-xmlfile in /usr/local/lib/python3.11/dist-packages (from openpyxl) (2.0.0)\n",
            "Requirement already satisfied: numpy>=1.23.2 in /usr/local/lib/python3.11/dist-packages (from pandas) (2.0.2)\n",
            "Requirement already satisfied: python-dateutil>=2.8.2 in /usr/local/lib/python3.11/dist-packages (from pandas) (2.8.2)\n",
            "Requirement already satisfied: pytz>=2020.1 in /usr/local/lib/python3.11/dist-packages (from pandas) (2025.2)\n",
            "Requirement already satisfied: tzdata>=2022.7 in /usr/local/lib/python3.11/dist-packages (from pandas) (2025.2)\n",
            "Requirement already satisfied: six>=1.5 in /usr/local/lib/python3.11/dist-packages (from python-dateutil>=2.8.2->pandas) (1.17.0)\n",
            "Downloading pymupdf-1.25.5-cp39-abi3-manylinux2014_x86_64.manylinux_2_17_x86_64.whl (20.0 MB)\n",
            "\u001b[2K   \u001b[90m━━━━━━━━━━━━━━━━━━━━━━━━━━━━━━━━━━━━━━━━\u001b[0m \u001b[32m20.0/20.0 MB\u001b[0m \u001b[31m25.9 MB/s\u001b[0m eta \u001b[36m0:00:00\u001b[0m\n",
            "\u001b[?25hInstalling collected packages: pymupdf\n",
            "Successfully installed pymupdf-1.25.5\n"
          ]
        }
      ]
    },
    {
      "cell_type": "code",
      "source": [
        "import fitz  # PyMuPDF\n",
        "import pandas as pd\n",
        "\n",
        "# Load your PDF file\n",
        "pdf_file = \"/content/pdf.pdf\"  # Replace with your PDF file path\n",
        "doc = fitz.open(pdf_file)\n",
        "\n",
        "# Create a list to hold the extracted data\n",
        "data = []\n",
        "\n",
        "# Loop through each page\n",
        "for page_num in range(len(doc)):\n",
        "    page = doc[page_num]\n",
        "\n",
        "    # Extract all text with their positions\n",
        "    blocks = page.get_text(\"dict\")[\"blocks\"]\n",
        "\n",
        "    for b in blocks:\n",
        "        if \"lines\" in b:\n",
        "            for line in b[\"lines\"]:\n",
        "                for span in line[\"spans\"]:\n",
        "                    data.append({\n",
        "                        \"Page\": page_num + 1,\n",
        "                        \"Text\": span[\"text\"],\n",
        "                        \"X\": span[\"bbox\"][0],  # X coordinate (left)\n",
        "                        \"Y\": span[\"bbox\"][1]   # Y coordinate (top)\n",
        "                    })\n",
        "\n",
        "# Convert to a DataFrame\n",
        "df = pd.DataFrame(data)\n",
        "\n",
        "# Save to Excel\n",
        "df.to_excel(\"pdf_text_with_coordinates.xlsx\", index=False)\n",
        "print(\"Data saved to pdf_text_with_coordinates.xlsx\")\n"
      ],
      "metadata": {
        "colab": {
          "base_uri": "https://localhost:8080/"
        },
        "id": "eTk4cC0z6uXp",
        "outputId": "34d48d06-cfeb-4d15-d88e-b3fa86453b52"
      },
      "execution_count": 13,
      "outputs": [
        {
          "output_type": "stream",
          "name": "stdout",
          "text": [
            "Data saved to pdf_text_with_coordinates.xlsx\n"
          ]
        }
      ]
    },
    {
      "cell_type": "code",
      "source": [],
      "metadata": {
        "id": "RMhRBLAr7m-w"
      },
      "execution_count": 12,
      "outputs": []
    },
    {
      "cell_type": "code",
      "source": [],
      "metadata": {
        "id": "lGyYYAYK8vRg"
      },
      "execution_count": null,
      "outputs": []
    }
  ]
}